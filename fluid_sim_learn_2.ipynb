{
 "cells": [
  {
   "cell_type": "code",
   "execution_count": 1,
   "id": "6f111ef5",
   "metadata": {},
   "outputs": [],
   "source": [
    "from __future__ import print_function\n",
    "import fluidsim"
   ]
  },
  {
   "cell_type": "code",
   "execution_count": 2,
   "id": "1cbee543",
   "metadata": {},
   "outputs": [
    {
     "data": {
      "text/html": [
       "<pre style=\"white-space:pre;overflow-x:auto;line-height:normal;font-family:Menlo,'DejaVu Sans Mono',consolas,'Courier New',monospace\"><span style=\"color: #800000; text-decoration-color: #800000\">WARNING </span> Module C:\\Anaconda\\lib\\site-packages\\fluidsim\\solvers\\ns2d\\solver.py has not been compiled for            \n",
       "         Transonic-Pythran                                                                                         \n",
       "</pre>\n"
      ],
      "text/plain": [
       "\u001b[31mWARNING \u001b[0m Module C:\\Anaconda\\lib\\site-packages\\fluidsim\\solvers\\ns2d\\solver.py has not been compiled for            \n",
       "         Transonic-Pythran                                                                                         \n"
      ]
     },
     "metadata": {},
     "output_type": "display_data"
    }
   ],
   "source": [
    "from fluidsim.solvers.ns2d.solver import Simul"
   ]
  },
  {
   "cell_type": "code",
   "execution_count": 3,
   "id": "5964d38d",
   "metadata": {},
   "outputs": [
    {
     "data": {
      "text/html": [
       "<pre style=\"white-space:pre;overflow-x:auto;line-height:normal;font-family:Menlo,'DejaVu Sans Mono',consolas,'Courier New',monospace\"><span style=\"color: #800000; text-decoration-color: #800000\">WARNING </span> Module C:\\Anaconda\\lib\\site-packages\\fluidfft\\fft2d\\operators.py has not been compiled for                \n",
       "         Transonic-Pythran                                                                                         \n",
       "</pre>\n"
      ],
      "text/plain": [
       "\u001b[31mWARNING \u001b[0m Module C:\\Anaconda\\lib\\site-packages\\fluidfft\\fft2d\\operators.py has not been compiled for                \n",
       "         Transonic-Pythran                                                                                         \n"
      ]
     },
     "metadata": {},
     "output_type": "display_data"
    },
    {
     "data": {
      "text/html": [
       "<pre style=\"white-space:pre;overflow-x:auto;line-height:normal;font-family:Menlo,'DejaVu Sans Mono',consolas,'Courier New',monospace\"><span style=\"color: #800000; text-decoration-color: #800000\">WARNING </span> Module C:\\Anaconda\\lib\\site-packages\\fluidsim\\operators\\operators2d.py has not been compiled for          \n",
       "         Transonic-Pythran                                                                                         \n",
       "</pre>\n"
      ],
      "text/plain": [
       "\u001b[31mWARNING \u001b[0m Module C:\\Anaconda\\lib\\site-packages\\fluidsim\\operators\\operators2d.py has not been compiled for          \n",
       "         Transonic-Pythran                                                                                         \n"
      ]
     },
     "metadata": {},
     "output_type": "display_data"
    },
    {
     "name": "stderr",
     "output_type": "stream",
     "text": [
      "C:\\Anaconda\\lib\\site-packages\\fluidsim\\operators\\operators2d.py:35: UserWarning: operators2d.py has to be pythranized to be efficient! Install pythran and recompile.\n",
      "  warn(\n"
     ]
    },
    {
     "data": {
      "text/html": [
       "<pre style=\"white-space:pre;overflow-x:auto;line-height:normal;font-family:Menlo,'DejaVu Sans Mono',consolas,'Courier New',monospace\"><span style=\"color: #800000; text-decoration-color: #800000\">WARNING </span> Module C:\\Anaconda\\lib\\site-packages\\fluidsim\\base\\time_stepping\\pseudo_spect.py has not been compiled for\n",
       "         Transonic-Pythran                                                                                         \n",
       "</pre>\n"
      ],
      "text/plain": [
       "\u001b[31mWARNING \u001b[0m Module C:\\Anaconda\\lib\\site-packages\\fluidsim\\base\\time_stepping\\pseudo_spect.py has not been compiled for\n",
       "         Transonic-Pythran                                                                                         \n"
      ]
     },
     "metadata": {},
     "output_type": "display_data"
    },
    {
     "data": {
      "text/html": [
       "<pre style=\"white-space:pre;overflow-x:auto;line-height:normal;font-family:Menlo,'DejaVu Sans Mono',consolas,'Courier New',monospace\"><span style=\"color: #800000; text-decoration-color: #800000\">WARNING </span> Module C:\\Anaconda\\lib\\site-packages\\fluidsim\\base\\output\\increments.py has not been compiled for         \n",
       "         Transonic-Pythran                                                                                         \n",
       "</pre>\n"
      ],
      "text/plain": [
       "\u001b[31mWARNING \u001b[0m Module C:\\Anaconda\\lib\\site-packages\\fluidsim\\base\\output\\increments.py has not been compiled for         \n",
       "         Transonic-Pythran                                                                                         \n"
      ]
     },
     "metadata": {},
     "output_type": "display_data"
    },
    {
     "data": {
      "text/html": [
       "<pre style=\"white-space:pre;overflow-x:auto;line-height:normal;font-family:Menlo,'DejaVu Sans Mono',consolas,'Courier New',monospace\"><span style=\"color: #800000; text-decoration-color: #800000\">WARNING </span> Module C:\\Anaconda\\lib\\site-packages\\fluidsim\\base\\output\\spatiotemporal_spectra.py has not been compiled \n",
       "         for Transonic-Pythran                                                                                     \n",
       "</pre>\n"
      ],
      "text/plain": [
       "\u001b[31mWARNING \u001b[0m Module C:\\Anaconda\\lib\\site-packages\\fluidsim\\base\\output\\spatiotemporal_spectra.py has not been compiled \n",
       "         for Transonic-Pythran                                                                                     \n"
      ]
     },
     "metadata": {},
     "output_type": "display_data"
    },
    {
     "data": {
      "text/html": [
       "<pre style=\"white-space:pre;overflow-x:auto;line-height:normal;font-family:Menlo,'DejaVu Sans Mono',consolas,'Courier New',monospace\"><span style=\"color: #800000; text-decoration-color: #800000\">WARNING </span> Module C:\\Anaconda\\lib\\site-packages\\fluidsim\\solvers\\ns2d\\output\\spatiotemporal_spectra.py has not been  \n",
       "         compiled for Transonic-Pythran                                                                            \n",
       "</pre>\n"
      ],
      "text/plain": [
       "\u001b[31mWARNING \u001b[0m Module C:\\Anaconda\\lib\\site-packages\\fluidsim\\solvers\\ns2d\\output\\spatiotemporal_spectra.py has not been  \n",
       "         compiled for Transonic-Pythran                                                                            \n"
      ]
     },
     "metadata": {},
     "output_type": "display_data"
    },
    {
     "data": {
      "application/json": {
       "NEW_DIR_RESULTS": true,
       "ONLY_COARSE_OPER": false,
       "beta": 0,
       "forcing": {
        "available_types": [
         "in_script",
         "in_script_coarse",
         "pseudo_spectral",
         "proportional",
         "tcrandom",
         "tcrandom_anisotropic"
        ],
        "enable": false,
        "forcing_rate": 1,
        "key_forced": null,
        "milestone": {
         "movement": {
          "periodic_uniform": {
           "length": 1,
           "length_acc": 1,
           "speed": 1
          },
          "sinusoidal": {
           "length": 1,
           "period": 1
          },
          "type": "uniform",
          "uniform": {
           "speed": 1
          }
         },
         "nx_max": null,
         "objects": {
          "diameter": 1,
          "number": 2,
          "type": "cylinders",
          "width_boundary_layers": 0.1
         }
        },
        "nkmax_forcing": 5,
        "nkmin_forcing": 4,
        "normalized": {
         "constant_rate_of": null,
         "type": "2nd_degree_eq",
         "which_root": "minabs"
        },
        "random": {
         "only_positive": false
        },
        "tcrandom": {
         "time_correlation": "based_on_forcing_rate"
        },
        "tcrandom_anisotropic": {
         "angle": "45°",
         "delta_angle": null,
         "kz_negative_enable": false
        },
        "type": ""
       },
       "init_fields": {
        "available_types": [
         "from_file",
         "from_simul",
         "in_script",
         "constant",
         "noise",
         "jet",
         "dipole"
        ],
        "constant": {
         "value": 1
        },
        "from_file": {
         "path": ""
        },
        "modif_after_init": false,
        "noise": {
         "length": 0,
         "velo_max": 1
        },
        "type": "constant"
       },
       "nu_2": 0,
       "nu_4": 0,
       "nu_8": 0,
       "nu_m4": 0,
       "oper": {
        "Lx": 8,
        "Ly": 8,
        "NO_KY0": false,
        "NO_SHEAR_MODES": false,
        "coef_dealiasing": 0.6666666666666666,
        "nx": 48,
        "ny": 48,
        "truncation_shape": "cubic",
        "type_fft": "default"
       },
       "output": {
        "HAS_TO_SAVE": true,
        "ONLINE_PLOT_OK": true,
        "increments": {
         "HAS_TO_PLOT_SAVED": false
        },
        "period_refresh_plots": 1,
        "periods_plot": {
         "phys_fields": 0
        },
        "periods_print": {
         "print_stdout": 1
        },
        "periods_save": {
         "increments": 0,
         "phys_fields": 0,
         "spatial_means": 0,
         "spatiotemporal_spectra": 0,
         "spect_energy_budg": 0,
         "spectra": 0,
         "spectra_multidim": 0,
         "temporal_spectra": 0
        },
        "phys_fields": {
         "field_to_plot": "rot",
         "file_with_it": false
        },
        "spatial_means": {
         "HAS_TO_PLOT_SAVED": false
        },
        "spatiotemporal_spectra": {
         "SAVE_AS_COMPLEX64": true,
         "file_max_size": 10,
         "probes_region": null
        },
        "spect_energy_budg": {
         "HAS_TO_PLOT_SAVED": false
        },
        "spectra": {
         "HAS_TO_PLOT_SAVED": false
        },
        "spectra_multidim": {
         "HAS_TO_PLOT_SAVED": false
        },
        "sub_directory": "",
        "temporal_spectra": {
         "SAVE_AS_FLOAT32": true,
         "file_max_size": 10,
         "probes_deltax": 0.1,
         "probes_deltay": 0.1,
         "probes_region": null
        }
       },
       "preprocess": {
        "enable": false,
        "forcing_const": 1,
        "forcing_scale": "unity",
        "init_field_const": 1,
        "init_field_scale": "unity",
        "viscosity_const": 1,
        "viscosity_scale": "enstrophy_forcing",
        "viscosity_type": "laplacian"
       },
       "short_name_type_run": "",
       "time_stepping": {
        "USE_CFL": true,
        "USE_T_END": true,
        "cfl_coef": null,
        "deltat0": 0.2,
        "deltat_max": 0.2,
        "it_end": 10,
        "max_elapsed": null,
        "phaseshift_random": {
         "nb_pairs": 1,
         "nb_steps_compute_new_pair": null
        },
        "t_end": 10,
        "type_time_scheme": "RK4"
       }
      },
      "text/plain": [
       "<fluidsim_core.params.Parameters object at 0x0000017EEC056850>\n",
       "\n",
       "<params NEW_DIR_RESULTS=\"True\" ONLY_COARSE_OPER=\"False\" beta=\"0.0\" nu_2=\"0.0\"\n",
       "        nu_4=\"0.0\" nu_8=\"0.0\" nu_m4=\"0.0\" short_name_type_run=\"\">\n",
       "  <oper Lx=\"8\" Ly=\"8\" NO_KY0=\"False\" NO_SHEAR_MODES=\"False\"\n",
       "        coef_dealiasing=\"0.6666666666666666\" nx=\"48\" ny=\"48\"\n",
       "        truncation_shape=\"cubic\" type_fft=\"default\"/>  \n",
       "\n",
       "  <time_stepping USE_CFL=\"True\" USE_T_END=\"True\" cfl_coef=\"None\" deltat0=\"0.2\"\n",
       "                 deltat_max=\"0.2\" it_end=\"10\" max_elapsed=\"None\" t_end=\"10.0\"\n",
       "                 type_time_scheme=\"RK4\">\n",
       "    <phaseshift_random nb_pairs=\"1\" nb_steps_compute_new_pair=\"None\"/>  \n",
       "\n",
       "  </time_stepping>\n",
       "\n",
       "  <init_fields available_types=\"['from_file', 'from_simul', 'in_script',\n",
       "               'constant', 'noise', 'jet', 'dipole']\" modif_after_init=\"False\"\n",
       "               type=\"constant\">\n",
       "    <from_file path=\"\"/>  \n",
       "\n",
       "    <constant value=\"1.0\"/>  \n",
       "\n",
       "    <noise length=\"0.0\" velo_max=\"1.0\"/>  \n",
       "\n",
       "  </init_fields>\n",
       "\n",
       "  <forcing available_types=\"['in_script', 'in_script_coarse', 'pseudo_spectral',\n",
       "           'proportional', 'tcrandom', 'tcrandom_anisotropic']\" enable=\"False\"\n",
       "           forcing_rate=\"1.0\" key_forced=\"None\" nkmax_forcing=\"5\"\n",
       "           nkmin_forcing=\"4\" type=\"\">\n",
       "    <milestone nx_max=\"None\">\n",
       "      <objects diameter=\"1.0\" number=\"2\" type=\"cylinders\"\n",
       "               width_boundary_layers=\"0.1\"/>  \n",
       "\n",
       "      <movement type=\"uniform\">\n",
       "        <uniform speed=\"1.0\"/>  \n",
       "\n",
       "        <sinusoidal length=\"1.0\" period=\"1.0\"/>  \n",
       "\n",
       "        <periodic_uniform length=\"1.0\" length_acc=\"1.0\" speed=\"1.0\"/>  \n",
       "\n",
       "      </movement>\n",
       "\n",
       "    </milestone>\n",
       "\n",
       "    <normalized constant_rate_of=\"None\" type=\"2nd_degree_eq\"\n",
       "                which_root=\"minabs\"/>  \n",
       "\n",
       "    <random only_positive=\"False\"/>  \n",
       "\n",
       "    <tcrandom time_correlation=\"based_on_forcing_rate\"/>  \n",
       "\n",
       "    <tcrandom_anisotropic angle=\"45°\" delta_angle=\"None\"\n",
       "                          kz_negative_enable=\"False\"/>  \n",
       "\n",
       "  </forcing>\n",
       "\n",
       "  <output HAS_TO_SAVE=\"True\" ONLINE_PLOT_OK=\"True\" period_refresh_plots=\"1\"\n",
       "          sub_directory=\"\">\n",
       "    <periods_save increments=\"0\" phys_fields=\"0\" spatial_means=\"0\"\n",
       "                  spatiotemporal_spectra=\"0\" spect_energy_budg=\"0\" spectra=\"0\"\n",
       "                  spectra_multidim=\"0\" temporal_spectra=\"0\"/>  \n",
       "\n",
       "    <periods_print print_stdout=\"1.0\"/>  \n",
       "\n",
       "    <periods_plot phys_fields=\"0\"/>  \n",
       "\n",
       "    <phys_fields field_to_plot=\"rot\" file_with_it=\"False\"/>  \n",
       "\n",
       "    <spectra HAS_TO_PLOT_SAVED=\"False\"/>  \n",
       "\n",
       "    <spectra_multidim HAS_TO_PLOT_SAVED=\"False\"/>  \n",
       "\n",
       "    <spatial_means HAS_TO_PLOT_SAVED=\"False\"/>  \n",
       "\n",
       "    <spect_energy_budg HAS_TO_PLOT_SAVED=\"False\"/>  \n",
       "\n",
       "    <increments HAS_TO_PLOT_SAVED=\"False\"/>  \n",
       "\n",
       "    <temporal_spectra SAVE_AS_FLOAT32=\"True\" file_max_size=\"10.0\"\n",
       "                      probes_deltax=\"0.1\" probes_deltay=\"0.1\"\n",
       "                      probes_region=\"None\"/>  \n",
       "\n",
       "    <spatiotemporal_spectra SAVE_AS_COMPLEX64=\"True\" file_max_size=\"10.0\"\n",
       "                            probes_region=\"None\"/>  \n",
       "\n",
       "  </output>\n",
       "\n",
       "  <preprocess enable=\"False\" forcing_const=\"1.0\" forcing_scale=\"unity\"\n",
       "              init_field_const=\"1.0\" init_field_scale=\"unity\"\n",
       "              viscosity_const=\"1.0\" viscosity_scale=\"enstrophy_forcing\"\n",
       "              viscosity_type=\"laplacian\"/>  \n",
       "\n",
       "</params>"
      ]
     },
     "execution_count": 3,
     "metadata": {
      "application/json": {
       "expanded": true,
       "root": "params of <class 'fluidsim_core.params.Parameters'> at 0x17eec056850"
      }
     },
     "output_type": "execute_result"
    }
   ],
   "source": [
    "params = Simul.create_default_params()\n",
    "params"
   ]
  },
  {
   "cell_type": "code",
   "execution_count": 4,
   "id": "b5b13d21",
   "metadata": {},
   "outputs": [],
   "source": [
    "params.nu_2 = 1e-3\n",
    "params.forcing.enable = False\n",
    "\n",
    "params.init_fields.type = \"noise\"\n",
    "\n",
    "params.output.periods_save.spatial_means = 1.0\n",
    "params.output.periods_save.spectra = 1.0\n",
    "params.output.periods_save.phys_fields = 2.0\n"
   ]
  },
  {
   "cell_type": "code",
   "execution_count": 5,
   "id": "e53b209a",
   "metadata": {},
   "outputs": [
    {
     "name": "stdout",
     "output_type": "stream",
     "text": [
      "*************************************\n",
      "Program fluidsim\n",
      "sim:                <class 'fluidsim.solvers.ns2d.solver.Simul'>\n",
      "sim.output:         <class 'fluidsim.solvers.ns2d.output.Output'>\n",
      "sim.oper:           <class 'fluidsim.operators.operators2d.OperatorsPseudoSpectral2D'>\n",
      "sim.state:          <class 'fluidsim.solvers.ns2d.state.StateNS2D'>\n",
      "sim.time_stepping:  <class 'fluidsim.base.time_stepping.pseudo_spect.TimeSteppingPseudoSpectral'>\n",
      "sim.init_fields:    <class 'fluidsim.solvers.ns2d.init_fields.InitFieldsNS2D'>\n",
      "\n",
      "solver NS2D, RK4 and sequential,\n",
      "type fft: fluidfft.fft2d.with_pyfftw\n",
      "nx =     48 ; ny =     48\n",
      "lx = 8 ; ly = 8\n",
      "path_run =\n",
      "C:\\Users\\Nitish Borade\\Sim_data\\NS2D_48x48_S8x8_2023-01-06_14-26-21\n",
      "init_fields.type: noise\n",
      "\n",
      "Initialization outputs:\n",
      "sim.output.increments:        <class 'fluidsim.base.output.increments.Increments'>\n",
      "sim.output.phys_fields:       <class 'fluidsim.base.output.phys_fields2d.PhysFieldsBase2D'>\n",
      "sim.output.spatial_means:     <class 'fluidsim.solvers.ns2d.output.spatial_means.SpatialMeansNS2D'>\n",
      "sim.output.spatiotemporal_spectra:<class 'fluidsim.solvers.ns2d.output.spatiotemporal_spectra.SpatioTemporalSpectraNS2D'>\n",
      "sim.output.spect_energy_budg: <class 'fluidsim.solvers.ns2d.output.spect_energy_budget.SpectralEnergyBudgetNS2D'>\n",
      "sim.output.spectra:           <class 'fluidsim.solvers.ns2d.output.spectra.SpectraNS2D'>\n",
      "sim.output.spectra_multidim:  <class 'fluidsim.solvers.ns2d.output.spectra_multidim.SpectraMultiDimNS2D'>\n",
      "sim.output.temporal_spectra:  <class 'fluidsim.base.output.temporal_spectra.TemporalSpectra2D'>\n",
      "\n",
      "Memory usage at the end of init. (equiv. seq.): 203.29296875 Mo\n",
      "Size of state_spect (equiv. seq.): 0.0192 Mo\n"
     ]
    }
   ],
   "source": [
    "# simulation object\n",
    "sim = Simul(params) "
   ]
  },
  {
   "cell_type": "code",
   "execution_count": 6,
   "id": "9e409caf",
   "metadata": {},
   "outputs": [
    {
     "name": "stdout",
     "output_type": "stream",
     "text": [
      "*************************************\n",
      "Beginning of the computation\n",
      "save state_phys in file state_phys_t0000.000.nc\n",
      "    compute until t =         10\n",
      "it =      0 ; t =            0 ; deltat  =   0.097144\n",
      "              energy = 9.159e-02 ; Delta energy = +0.000e+00\n",
      "\n",
      "MEMORY_USAGE:                  203.98046875 Mo\n",
      "it =     11 ; t =      1.09076 ; deltat  =    0.10203\n",
      "              energy = 9.061e-02 ; Delta energy = -9.864e-04\n",
      "              estimated remaining duration = 0:00:00\n",
      "MEMORY_USAGE:                  203.9921875 Mo\n",
      "it =     20 ; t =       2.0249 ; deltat  =     0.1043\n",
      "              energy = 8.977e-02 ; Delta energy = -8.323e-04\n",
      "              estimated remaining duration = 0:00:00\n",
      "MEMORY_USAGE:                  204.578125 Mo\n",
      "save state_phys in file state_phys_t0002.025.nc\n",
      "it =     30 ; t =      3.06543 ; deltat  =    0.10186\n",
      "              energy = 8.886e-02 ; Delta energy = -9.103e-04\n",
      "              estimated remaining duration = 0:00:00\n",
      "MEMORY_USAGE:                  204.609375 Mo\n",
      "it =     40 ; t =      4.07468 ; deltat  =   0.099527\n",
      "              energy = 8.800e-02 ; Delta energy = -8.604e-04\n",
      "              estimated remaining duration = 0:00:00\n",
      "MEMORY_USAGE:                  204.609375 Mo\n",
      "save state_phys in file state_phys_t0004.075.nc\n",
      "it =     50 ; t =      5.05164 ; deltat  =   0.099822\n",
      "              energy = 8.720e-02 ; Delta energy = -8.048e-04\n",
      "              estimated remaining duration = 0:00:00\n",
      "MEMORY_USAGE:                  204.6171875 Mo\n",
      "it =     60 ; t =      6.07928 ; deltat  =    0.10683\n",
      "              energy = 8.639e-02 ; Delta energy = -8.106e-04\n",
      "              estimated remaining duration = 0:00:00\n",
      "MEMORY_USAGE:                  204.6171875 Mo\n",
      "save state_phys in file state_phys_t0006.079.nc\n",
      "it =     69 ; t =      7.03406 ; deltat  =     0.1046\n",
      "              energy = 8.567e-02 ; Delta energy = -7.183e-04\n",
      "              estimated remaining duration = 0:00:00\n",
      "MEMORY_USAGE:                  204.6171875 Mo\n",
      "it =     78 ; t =      8.01067 ; deltat  =    0.11028\n",
      "              energy = 8.497e-02 ; Delta energy = -7.025e-04\n",
      "              estimated remaining duration = 0:00:00\n",
      "MEMORY_USAGE:                  204.6171875 Mo\n",
      "save state_phys in file state_phys_t0008.011.nc\n",
      "it =     88 ; t =       9.0847 ; deltat  =    0.10476\n",
      "              energy = 8.423e-02 ; Delta energy = -7.391e-04\n",
      "              estimated remaining duration = 0:00:00\n",
      "MEMORY_USAGE:                  204.6171875 Mo\n",
      "it =     97 ; t =      10.0101 ; deltat  =    0.10258\n",
      "              energy = 8.362e-02 ; Delta energy = -6.109e-04\n",
      "\n",
      "MEMORY_USAGE:                  204.6171875 Mo\n",
      "save state_phys in file state_phys_t0010.010.nc\n",
      "Computation completed in 0.449389 s\n",
      "path_run =\n",
      "C:\\Users\\Nitish Borade\\Sim_data\\NS2D_48x48_S8x8_2023-01-06_14-26-21\n"
     ]
    }
   ],
   "source": [
    "sim.time_stepping.start()"
   ]
  },
  {
   "cell_type": "code",
   "execution_count": 7,
   "id": "6d6182f2",
   "metadata": {},
   "outputs": [
    {
     "name": "stdout",
     "output_type": "stream",
     "text": [
      "Create a object Simul from a dir result.\n",
      "\n",
      "    Creating simulation objects with this function should be fast because the\n",
      "    state is not initialized with the output file and only a coarse operator is\n",
      "    created.\n",
      "\n",
      "    Parameters\n",
      "    ----------\n",
      "\n",
      "    name_dir : str (optional)\n",
      "\n",
      "      Name of the directory of the simulation. If nothing is given, we load the\n",
      "      data in the current directory.\n",
      "      Can be an absolute path, a relative path, or even simply just\n",
      "      the name of the directory under $FLUIDSIM_PATH.\n",
      "\n",
      "    merge_missing_params : bool (optional, default == False)\n",
      "\n",
      "      Can be used to load old simulations carried out with an old fluidsim\n",
      "      version.\n",
      "\n",
      "    hide_stdout : bool (optional, default == False)\n",
      "\n",
      "      If True, without stdout.\n",
      "\n",
      "    \n",
      "Create a simulation from a file.\n",
      "\n",
      "    For large resolution, creating a simulation object with this function can\n",
      "    be slow because the state is initialized with the output file.\n",
      "\n",
      "    Parameters\n",
      "    ----------\n",
      "\n",
      "    name_dir : str (optional)\n",
      "\n",
      "      Name of the directory of the simulation. If nothing is given, we load the\n",
      "      data in the current directory.\n",
      "      Can be an absolute path, a relative path, or even simply just\n",
      "      the name of the directory under $FLUIDSIM_PATH.\n",
      "\n",
      "    t_approx : number (optional)\n",
      "\n",
      "      Approximate time of the file to be loaded.\n",
      "\n",
      "    modif_save_params :  bool (optional, default == True)\n",
      "\n",
      "      If True, the parameters of the simulation are modified before loading::\n",
      "\n",
      "        params.output.HAS_TO_SAVE = False\n",
      "        params.output.ONLINE_PLOT_OK = False\n",
      "\n",
      "    merge_missing_params : bool (optional, default == False)\n",
      "\n",
      "      Can be used to load old simulations carried out with an old fluidsim\n",
      "      version.\n",
      "\n",
      "    init_with_initialized_state : bool (optional, default == True)\n",
      "\n",
      "      If True, call sim.output.init_with_initialized_state.\n",
      "\n",
      "    hide_stdout : bool (optional, default == False)\n",
      "\n",
      "      If True, without stdout.\n",
      "\n",
      "    \n"
     ]
    }
   ],
   "source": [
    "from fluidsim import load_sim_for_plot\n",
    "from fluidsim import load_state_phys_file\n",
    "print(load_sim_for_plot.__doc__)\n",
    "print(load_state_phys_file.__doc__)"
   ]
  },
  {
   "cell_type": "code",
   "execution_count": 8,
   "id": "55c1664e",
   "metadata": {},
   "outputs": [
    {
     "name": "stdout",
     "output_type": "stream",
     "text": [
      "*************************************\n",
      "Program fluidsim\n",
      "Load state from file:\n",
      "[...]Borade\\Sim_data\\NS2D_48x48_S8x8_2023-01-06_14-26-21\\state_phys_t0010.010.nc\n",
      "sim:                <class 'fluidsim.solvers.ns2d.solver.Simul'>\n",
      "sim.output:         <class 'fluidsim.solvers.ns2d.output.Output'>\n",
      "sim.oper:           <class 'fluidsim.operators.operators2d.OperatorsPseudoSpectral2D'>\n",
      "sim.state:          <class 'fluidsim.solvers.ns2d.state.StateNS2D'>\n",
      "sim.time_stepping:  <class 'fluidsim.base.time_stepping.pseudo_spect.TimeSteppingPseudoSpectral'>\n",
      "sim.init_fields:    <class 'fluidsim.solvers.ns2d.init_fields.InitFieldsNS2D'>\n",
      "\n",
      "solver NS2D, RK4 and sequential,\n",
      "type fft: fluidfft.fft2d.with_pyfftw\n",
      "nx =     48 ; ny =     48\n",
      "lx = 8 ; ly = 8\n",
      "path_run =\n",
      "C:\\Users\\Nitish Borade\\Sim_data\\NS2D_48x48_S8x8_2023-01-06_14-26-21\n",
      "init_fields.type: from_file\n",
      "\n",
      "Initialization outputs:\n",
      "sim.output.increments:        <class 'fluidsim.base.output.increments.Increments'>\n",
      "sim.output.phys_fields:       <class 'fluidsim.base.output.phys_fields2d.PhysFieldsBase2D'>\n",
      "sim.output.spatial_means:     <class 'fluidsim.solvers.ns2d.output.spatial_means.SpatialMeansNS2D'>\n",
      "sim.output.spatiotemporal_spectra:<class 'fluidsim.solvers.ns2d.output.spatiotemporal_spectra.SpatioTemporalSpectraNS2D'>\n",
      "sim.output.spect_energy_budg: <class 'fluidsim.solvers.ns2d.output.spect_energy_budget.SpectralEnergyBudgetNS2D'>\n",
      "sim.output.spectra:           <class 'fluidsim.solvers.ns2d.output.spectra.SpectraNS2D'>\n",
      "sim.output.spectra_multidim:  <class 'fluidsim.solvers.ns2d.output.spectra_multidim.SpectraMultiDimNS2D'>\n",
      "sim.output.temporal_spectra:  <class 'fluidsim.base.output.temporal_spectra.TemporalSpectra2D'>\n",
      "\n",
      "Memory usage at the end of init. (equiv. seq.): 205.16015625 Mo\n",
      "Size of state_spect (equiv. seq.): 0.0192 Mo\n"
     ]
    }
   ],
   "source": [
    "sim = load_state_phys_file(sim.output.path_run)"
   ]
  },
  {
   "cell_type": "code",
   "execution_count": 9,
   "id": "fd48b475",
   "metadata": {},
   "outputs": [
    {
     "name": "stdout",
     "output_type": "stream",
     "text": [
      "<class 'fluiddyn.util.paramcontainer.ParamContainer'>\n",
      "['params', 'solver']\n"
     ]
    }
   ],
   "source": [
    "print(sim.info.__class__)\n",
    "print([attr for attr in dir(sim.info) if not attr.startswith(\"_\")])"
   ]
  },
  {
   "cell_type": "code",
   "execution_count": 10,
   "id": "454b3dac",
   "metadata": {},
   "outputs": [
    {
     "data": {
      "text/plain": [
       "True"
      ]
     },
     "execution_count": 10,
     "metadata": {},
     "output_type": "execute_result"
    }
   ],
   "source": [
    "sim.info.solver is sim.info_solver"
   ]
  },
  {
   "cell_type": "code",
   "execution_count": 11,
   "id": "cd21c6ad",
   "metadata": {},
   "outputs": [
    {
     "data": {
      "text/plain": [
       "True"
      ]
     },
     "execution_count": 11,
     "metadata": {},
     "output_type": "execute_result"
    }
   ],
   "source": [
    "sim.info.params is sim.params"
   ]
  },
  {
   "cell_type": "code",
   "execution_count": 12,
   "id": "be171cdb",
   "metadata": {},
   "outputs": [
    {
     "data": {
      "image/png": "[encoded data removed]",
      "text/plain": [
       "<Figure size 640x480 with 2 Axes>"
      ]
     },
     "metadata": {},
     "output_type": "display_data"
    },
    {
     "data": {
      "image/png": "[encoded data removed]",
      "text/plain": [
       "<Figure size 640x480 with 2 Axes>"
      ]
     },
     "metadata": {},
     "output_type": "display_data"
    }
   ],
   "source": [
    "sim.output.spatial_means.plot()"
   ]
  },
  {
   "cell_type": "code",
   "execution_count": null,
   "id": "ace9389c",
   "metadata": {},
   "outputs": [],
   "source": []
  }
 ],
 "metadata": {
  "kernelspec": {
   "display_name": "Python 3 (ipykernel)",
   "language": "python",
   "name": "python3"
  },
  "language_info": {
   "codemirror_mode": {
    "name": "ipython",
    "version": 3
   },
   "file_extension": ".py",
   "mimetype": "text/x-python",
   "name": "python",
   "nbconvert_exporter": "python",
   "pygments_lexer": "ipython3",
   "version": "3.9.13"
  }
 },
 "nbformat": 4,
 "nbformat_minor": 5
}
